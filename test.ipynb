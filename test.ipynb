{
 "metadata": {
  "language_info": {
   "codemirror_mode": {
    "name": "ipython",
    "version": 3
   },
   "file_extension": ".py",
   "mimetype": "text/x-python",
   "name": "python",
   "nbconvert_exporter": "python",
   "pygments_lexer": "ipython3",
   "version": "3.8.8-final"
  },
  "orig_nbformat": 2,
  "kernelspec": {
   "name": "python3",
   "display_name": "Python 3.8.8 64-bit ('sspose': conda)",
   "metadata": {
    "interpreter": {
     "hash": "3e663a23e2b8ddf6d588a920315010fbcf5244fee47538a0f60583a6785948c6"
    }
   }
  }
 },
 "nbformat": 4,
 "nbformat_minor": 2,
 "cells": [
  {
   "cell_type": "code",
   "execution_count": 1,
   "metadata": {},
   "outputs": [],
   "source": [
    "%load_ext autoreload\n",
    "%autoreload 2\n",
    "\n",
    "from model import Drosophila2DPose\n",
    "from parser import create_parser\n",
    "import torch\n",
    "\n",
    "checkpoint_path = '/home/user/Desktop/DeepFly3D/weights/sh8_deepfly.tar'\n",
    "args = create_parser().parse_args('')\n",
    "model = Drosophila2DPose(checkpoint_path=checkpoint_path, **args.__dict__).cuda()\n"
   ]
  },
  {
   "cell_type": "code",
   "execution_count": 2,
   "metadata": {},
   "outputs": [
    {
     "output_type": "stream",
     "name": "stderr",
     "text": [
      "/home/user/anaconda3/envs/sspose/lib/python3.8/site-packages/matplotlib_inline/config.py:66: DeprecationWarning: InlineBackend._figure_formats_changed is deprecated in traitlets 4.1: use @observe and @unobserve instead.\n  def _figure_formats_changed(self, name, old, new):\n"
     ]
    }
   ],
   "source": [
    "from inference import path2inp\n",
    "from dataset import Drosophila2Dataset\n",
    "from torch.utils.data import DataLoader\n",
    "\n",
    "image_path = '/home/user/Desktop/DeepFly3D/data/test/'\n",
    "inp = path2inp(image_path) # extract list of images under the folder\n",
    "dat = DataLoader(Drosophila2Dataset(inp), batch_size=8)\n"
   ]
  },
  {
   "cell_type": "code",
   "execution_count": 5,
   "metadata": {
    "tags": []
   },
   "outputs": [
    {
     "output_type": "stream",
     "name": "stdout",
     "text": [
      "CPU times: user 21.3 s, sys: 551 ms, total: 21.8 s\nWall time: 2.27 s\n"
     ]
    }
   ],
   "source": [
    "%%time\n",
    "from inference import inference\n",
    "points2d = inference(model, dat)"
   ]
  }
 ]
}