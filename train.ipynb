{
 "metadata": {
  "language_info": {
   "codemirror_mode": {
    "name": "ipython",
    "version": 3
   },
   "file_extension": ".py",
   "mimetype": "text/x-python",
   "name": "python",
   "nbconvert_exporter": "python",
   "pygments_lexer": "ipython3",
   "version": "3.6.13-final"
  },
  "orig_nbformat": 2,
  "kernelspec": {
   "name": "python3",
   "display_name": "Python 3.6.13 64-bit ('df3d_dev': conda)",
   "metadata": {
    "interpreter": {
     "hash": "9569cd038463f1ae4fa544d349e9c5e283076eb4ba1fbff3336a1f5733116bc6"
    }
   }
  }
 },
 "nbformat": 4,
 "nbformat_minor": 2,
 "cells": [
  {
   "cell_type": "code",
   "execution_count": 8,
   "metadata": {},
   "outputs": [
    {
     "output_type": "stream",
     "name": "stdout",
     "text": [
      "The autoreload extension is already loaded. To reload it, use:\n  %reload_ext autoreload\n"
     ]
    }
   ],
   "source": [
    "%load_ext autoreload\n",
    "%autoreload 2\n",
    "import os\n",
    "from df2d.dataset import Drosophila2Dataset\n",
    "from df2d.model import Drosophila2DPose\n",
    "from df2d.parser import create_parser\n",
    "from df2d.util import pwd\n",
    "from df2d.inference import path2inp, pr2inp\n",
    "import torch\n",
    "from torch.utils.data import DataLoader\n",
    "import numpy as np\n",
    "\n",
    "\n",
    "import matplotlib.pyplot as plt\n",
    "from df2d.inference import parse_img_path\n",
    "\n",
    "class load_f:\n",
    "    def __init__(self, cam_order):\n",
    "        self.cam_order = cam_order.tolist()\n",
    "    def __call__(self, x):\n",
    "        img = plt.imread(x)\n",
    "        cam_id, _ = parse_img_path(x)\n",
    "        if self.cam_order.index(cam_id) > 3:\n",
    "            img = img[:, ::-1]\n",
    "        return img\n",
    "\n",
    "device = torch.device(\"cuda:0\" if torch.cuda.is_available() else \"cpu\")\n",
    "checkpoint_path = os.path.join(pwd(), \"../weights/sh8_deepfly.tar\")\n",
    "args_default = create_parser().parse_args(\"\").__dict__\n",
    "model = Drosophila2DPose(checkpoint_path=checkpoint_path, **args_default).to(device)\n",
    "\n",
    "inp = pr2inp('/home/user/Desktop/DeepFly3D/sample/test/df3d/df3d_result__home_user_Desktop_DeepFly3D_sample_test.pkl')\n",
    "\n",
    "#inp = path2inp(\n",
    "#    '/home/user/Desktop/DeepFly3D/sample/test/', max_img_id=100\n",
    "#)  # extract list of images under the folder\n",
    "dat = DataLoader(Drosophila2Dataset(inp, return_heatmap=True, load_f=load_f(np.array([0,1,2,3,4,5,6]))), batch_size=8, shuffle=True)"
   ]
  },
  {
   "cell_type": "code",
   "execution_count": 7,
   "metadata": {
    "tags": []
   },
   "outputs": [
    {
     "output_type": "stream",
     "name": "stderr",
     "text": [
      "GPU available: False, used: False\n",
      "TPU available: False, using: 0 TPU cores\n",
      "IPU available: False, using: 0 IPUs\n",
      "\n",
      "  | Name  | Type         | Params\n",
      "---------------------------------------\n",
      "0 | model | HourglassNet | 6.7 M \n",
      "---------------------------------------\n",
      "6.7 M     Trainable params\n",
      "0         Non-trainable params\n",
      "6.7 M     Total params\n",
      "26.933    Total estimated model params size (MB)\n",
      "Epoch 0:  33%|███▎      | 4/12 [01:07<02:14, 16.86s/it, loss=0.0361, v_num=66]\n",
      "Epoch 1:  75%|███████▌  | 9/12 [00:35<00:11,  3.90s/it, loss=0.00381, v_num=67]"
     ]
    }
   ],
   "source": [
    "from pytorch_lightning import Trainer\n",
    "\n",
    "trainer = Trainer()\n",
    "trainer.fit(model, dat)"
   ]
  },
  {
   "cell_type": "code",
   "execution_count": null,
   "metadata": {},
   "outputs": [],
   "source": []
  }
 ]
}